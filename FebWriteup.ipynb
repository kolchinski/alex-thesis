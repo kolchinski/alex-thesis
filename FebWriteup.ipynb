{
 "metadata": {
  "name": "FebWriteup"
 },
 "nbformat": 3,
 "nbformat_minor": 0,
 "worksheets": [
  {
   "cells": [
    {
     "cell_type": "markdown",
     "metadata": {},
     "source": [
      "### Alex Kolchinski - Master's Thesis Writeup\n",
      "\n",
      "The first part of this master's project has been the evaluation and comparison of several different approaches for computer vision problems, specifically recognizing handwritten digits from the MNIST database. One of the algorithms implemented so far has been the Pegasos algorithm for SVM fitting - see http://ttic.uchicago.edu/~nati/Publications/PegasosMPB.pdf. Another has been a simple neural net with 1/0 neurons and 1/0/-1 synapses - see http://www.ncbi.nlm.nih.gov/pubmed/22737121. Finally, I looked into online algorithms for unsupervised clustering, among them K-Means, both with fixed number of clusters and dynamically growing number of clusters."
     ]
    },
    {
     "cell_type": "markdown",
     "metadata": {},
     "source": [
      "First, we import the MNIST data set - the training and test sets for digits 0 through 9 are in binary data files. I wrote the digit_features library to make working with the data easier: there are functions for grabbing the data in Numpy array format for any combination of: pixel and edge data, square-shaped or 1D arrays, and labeled or unlabeled data points. See digit_features.py for details."
     ]
    },
    {
     "cell_type": "code",
     "collapsed": false,
     "input": [
      "import digit_features as df"
     ],
     "language": "python",
     "metadata": {},
     "outputs": [],
     "prompt_number": 1
    },
    {
     "cell_type": "markdown",
     "metadata": {},
     "source": [
      "Before we start working on classifiers, it stands to run some publically available SVM packages on the MNIST data to get a baseline of performance to compare with other algorithms. The sklearn_svm package abstracts out using the scikit-learn libraries to perform SVM fitting and classification with LibLinear and LibSVM. See sklearn-svm.py for details. We can now use sklearn_svm to evaluate the performance of one-vs-the-rest and one-vs-one classification for the MNIST data, both for the raw pixel data and for the vectors of edges that the amitgroup/bedges algorithm detects among the pixels. One-vs-the-rest classification trains an SVM for every class vs the other 9 classes and classifies unknown points by assigning them to the class for which they are furthest from the separating hyperplane in the positive direction. One-vs-one classification trains a classifier for every pair of classes ($10*9/2=45$ in this case) and assigning points to whichever class has the most \"votes\" from the $\\frac{n*(n+1)}{2}$ binary classifiers."
     ]
    },
    {
     "cell_type": "code",
     "collapsed": false,
     "input": [
      "import sklearn_svm as skl"
     ],
     "language": "python",
     "metadata": {},
     "outputs": [],
     "prompt_number": 2
    },
    {
     "cell_type": "code",
     "collapsed": false,
     "input": [
      "# Test one-vs-the-rest classification (pick the class with the best positive margin relative to the \n",
      "# SVM hyperplane) - implemented with LibLinear. Try both pixel and edge data.\n",
      "print \"One-vs-the-rest classification on pixel data\"\n",
      "skl.oneVsRest(df.flatPixelTrainData(), df.flatPixelTestData(), 10)\n",
      "\n",
      "print \"\\n\\nOne-vs-the-rest classification on pixel data\"\n",
      "skl.oneVsRest(df.flatEdgeTrainData(), df.flatEdgeTestData(), 10)"
     ],
     "language": "python",
     "metadata": {},
     "outputs": [
      {
       "output_type": "stream",
       "stream": "stdout",
       "text": [
        "One-vs-the-rest classification on pixel data\n",
        "Percent error: "
       ]
      },
      {
       "output_type": "stream",
       "stream": "stdout",
       "text": [
        " 0.1872\n",
        "[[ 942.    0.    6.    6.    3.    9.   13.    2.   14.    5.]\n",
        " [   0.  919.   10.    2.    5.   12.    2.    2.   41.    7.]\n",
        " [   7.   12.  823.   23.   11.   13.   35.   20.   47.    9.]\n",
        " [   5.    6.   37.  726.    1.  109.   10.   20.   63.   23.]\n",
        " [   4.    4.   32.    9.  797.   11.   21.    7.   19.   96.]\n",
        " [  32.   10.    9.   54.   27.  691.   28.   19.   82.   48.]\n",
        " [   5.    7.   31.    3.    7.   38.  893.    2.   12.    2.]\n",
        " [   5.    7.   14.   16.   19.    4.    1.  851.   10.   73.]\n",
        " [  34.   25.   25.   24.   19.   59.   22.   13.  730.   49.]\n",
        " [   8.    2.   17.   27.   59.   20.    1.   92.   18.  756.]]\n",
        "\n",
        "\n",
        "One-vs-the-rest classification on pixel data\n",
        "Percent error: "
       ]
      },
      {
       "output_type": "stream",
       "stream": "stdout",
       "text": [
        " 0.0617\n",
        "[[ 982.    2.    0.    1.    0.    1.   13.    0.    1.    0.]\n",
        " [   0.  972.   12.    1.    4.    0.    0.    3.    6.    2.]\n",
        " [   4.    1.  958.    8.    5.    1.    2.   11.    7.    3.]\n",
        " [   1.    0.    9.  939.    0.   26.    0.    5.   11.    9.]\n",
        " [   3.    3.    3.    0.  930.    0.   11.    3.    3.   44.]\n",
        " [   5.   12.    3.   11.    2.  913.   18.    1.   33.    2.]\n",
        " [   8.    1.    1.    0.    1.   21.  960.    0.    6.    2.]\n",
        " [   1.    2.   10.    5.    7.    0.    1.  947.    5.   22.]\n",
        " [  16.   14.   25.   17.    9.   11.    7.    6.  863.   32.]\n",
        " [   3.    2.    3.    9.   14.    9.    1.   33.    7.  919.]]\n"
       ]
      }
     ],
     "prompt_number": 3
    },
    {
     "cell_type": "code",
     "collapsed": false,
     "input": [
      "# Test one-vs-one classification (pick the class with the most votes from pairwise\n",
      "# classifiers) - implemented with LibSVM. Try both pixel and edge data.\n",
      "print \"One-vs-one classification on pixel data\"\n",
      "skl.oneVsOne(df.flatPixelTrainData(), df.flatPixelTestData(), 10)\n",
      "\n",
      "print \"\\n\\nOne-vs-one classification on pixel data\"\n",
      "skl.oneVsOne(df.flatEdgeTrainData(), df.flatEdgeTestData(), 10)"
     ],
     "language": "python",
     "metadata": {},
     "outputs": [
      {
       "output_type": "stream",
       "stream": "stdout",
       "text": [
        "One-vs-one classification on pixel data\n",
        "Percent error: "
       ]
      },
      {
       "output_type": "stream",
       "stream": "stdout",
       "text": [
        " 0.1604\n",
        "[[ 946.    1.    6.    3.    6.   17.    5.    2.   12.    2.]\n",
        " [   0.  965.    6.    2.    1.    6.    1.    1.   12.    6.]\n",
        " [   8.   29.  823.   13.   26.    6.   20.   17.   55.    3.]\n",
        " [   5.   19.   23.  751.    2.  128.    7.   12.   30.   23.]\n",
        " [   2.    8.    7.    0.  756.    4.   34.    6.    2.  181.]\n",
        " [  13.   35.    1.   29.   23.  827.   11.    6.   19.   36.]\n",
        " [  10.   24.   55.    1.   27.   53.  827.    0.    3.    0.]\n",
        " [   1.   26.   15.    4.   21.    0.    0.  852.    9.   72.]\n",
        " [   7.   26.   28.   28.   11.   51.    6.    2.  787.   54.]\n",
        " [   4.   11.   16.   10.   50.    5.    0.   33.    9.  862.]]\n",
        "\n",
        "\n",
        "One-vs-one classification on pixel data\n",
        "Percent error: "
       ]
      },
      {
       "output_type": "stream",
       "stream": "stdout",
       "text": [
        " 0.0846\n",
        "[[ 969.    5.    4.    2.    2.    2.    9.    0.    6.    1.]\n",
        " [   0.  981.   11.    0.    2.    1.    1.    2.    0.    2.]\n",
        " [   4.    2.  948.    9.    8.    1.    4.   10.   12.    2.]\n",
        " [   3.    3.   12.  918.    0.   22.    0.   11.   14.   17.]\n",
        " [   2.   10.    7.    0.  898.    0.   15.    2.    4.   62.]\n",
        " [   7.   13.    3.   19.    2.  894.    6.    0.   42.   14.]\n",
        " [  21.   16.    3.    0.   10.   36.  907.    0.    7.    0.]\n",
        " [   3.    7.   14.    1.   11.    1.    0.  891.    6.   66.]\n",
        " [  13.   26.   26.   30.   12.   17.    5.    1.  834.   36.]\n",
        " [   5.    5.    7.   12.   13.    4.    0.   31.    9.  914.]]\n"
       ]
      }
     ],
     "prompt_number": 8
    },
    {
     "cell_type": "markdown",
     "metadata": {},
     "source": [
      "In the confusion matrices, the rows are the true class, and the columns are the predicted class."
     ]
    },
    {
     "cell_type": "markdown",
     "metadata": {},
     "source": [
      "As expected, both classifiers do much better on edge data than on pixel data. Oddly, the one-vs-one classification actually does worse than one-vs-the-rest for edge data, even though it builds $O(n^2)$ models for n digit classes, and one-vs-the rest only needs to build $O(n)$ models. However, the one-vs-one classification does slightly better than the one-vs-the-rest for pixel data."
     ]
    },
    {
     "cell_type": "markdown",
     "metadata": {},
     "source": [
      "Next, we turn to an implementation of the Pegasos SVM algorithm. "
     ]
    },
    {
     "cell_type": "code",
     "collapsed": false,
     "input": [
      "from pegasos import PegasosSVM"
     ],
     "language": "python",
     "metadata": {},
     "outputs": [],
     "prompt_number": 4
    },
    {
     "cell_type": "markdown",
     "metadata": {},
     "source": [
      "First, we run Pegasos on the raw pixel data. As the one-vs-rest SVMs are trained, they print out the value of the loss function every 10% of the number of training iterations (so, if we specify 8000 iterations and we have 1000 training points, we will train once per point, and print out the loss function every 800 points trained on). "
     ]
    },
    {
     "cell_type": "code",
     "collapsed": false,
     "input": [
      "pixelPegasos = PegasosSVM()\n",
      "#Third argument is number of iterations\n",
      "pixelPegasos.trainOnSet(df.labeled(df.flatPixelTrainData()), df.flatPixelTrainData(), 8000)\n"
     ],
     "language": "python",
     "metadata": {},
     "outputs": [
      {
       "output_type": "stream",
       "stream": "stdout",
       "text": [
        "\n",
        "Training one-vs-rest SVM for class 0\n",
        "Total loss: 0.301562894674\n",
        "Total loss: 0.135918648451"
       ]
      },
      {
       "output_type": "stream",
       "stream": "stdout",
       "text": [
        "\n",
        "Total loss: 0.138160678074\n",
        "Total loss: 0.126420903254"
       ]
      },
      {
       "output_type": "stream",
       "stream": "stdout",
       "text": [
        "\n",
        "Total loss: 0.124733192994\n",
        "Total loss: 0.124007975303"
       ]
      },
      {
       "output_type": "stream",
       "stream": "stdout",
       "text": [
        "\n",
        "Total loss: 0.123219878427\n",
        "Total loss: 0.12527150901"
       ]
      },
      {
       "output_type": "stream",
       "stream": "stdout",
       "text": [
        "\n",
        "Total loss: 0.123347578876\n",
        "Total loss: 0.122655068876"
       ]
      },
      {
       "output_type": "stream",
       "stream": "stdout",
       "text": [
        "\n",
        "\n",
        "Training one-vs-rest SVM for class 1\n",
        "Total loss: 0.162023258147\n",
        "Total loss: 0.141817165482"
       ]
      },
      {
       "output_type": "stream",
       "stream": "stdout",
       "text": [
        "\n",
        "Total loss: 0.139175106988\n",
        "Total loss: 0.137291077779"
       ]
      },
      {
       "output_type": "stream",
       "stream": "stdout",
       "text": [
        "\n",
        "Total loss: 0.137011324961\n",
        "Total loss: 0.13960251849"
       ]
      },
      {
       "output_type": "stream",
       "stream": "stdout",
       "text": [
        "\n",
        "Total loss: 0.139275099156\n",
        "Total loss: 0.136846966459"
       ]
      },
      {
       "output_type": "stream",
       "stream": "stdout",
       "text": [
        "\n",
        "Total loss: 0.136803222292"
       ]
      },
      {
       "output_type": "stream",
       "stream": "stdout",
       "text": [
        "\n",
        "Total loss: 0.136776396251\n",
        "\n",
        "Training one-vs-rest SVM for class 2\n",
        "Total loss: 0.206174000985"
       ]
      },
      {
       "output_type": "stream",
       "stream": "stdout",
       "text": [
        "\n",
        "Total loss: 0.19090992805\n",
        "Total loss: 0.19412695298"
       ]
      },
      {
       "output_type": "stream",
       "stream": "stdout",
       "text": [
        "\n",
        "Total loss: 0.185297252569\n",
        "Total loss: 0.185013116864"
       ]
      },
      {
       "output_type": "stream",
       "stream": "stdout",
       "text": [
        "\n",
        "Total loss: 0.187431108757"
       ]
      },
      {
       "output_type": "stream",
       "stream": "stdout",
       "text": [
        "\n",
        "Total loss: 0.184470303752\n",
        "Total loss: 0.185956867862"
       ]
      },
      {
       "output_type": "stream",
       "stream": "stdout",
       "text": [
        "\n",
        "Total loss: 0.187960272087\n",
        "Total loss: 0.184256395026"
       ]
      },
      {
       "output_type": "stream",
       "stream": "stdout",
       "text": [
        "\n",
        "\n",
        "Training one-vs-rest SVM for class 3\n",
        "Total loss: 0.227683298468\n",
        "Total loss: 0.202018282469"
       ]
      },
      {
       "output_type": "stream",
       "stream": "stdout",
       "text": [
        "\n",
        "Total loss: 0.197002923498\n",
        "Total loss: 0.195068990139"
       ]
      },
      {
       "output_type": "stream",
       "stream": "stdout",
       "text": [
        "\n",
        "Total loss: 0.192768011887\n",
        "Total loss: 0.194168405576"
       ]
      },
      {
       "output_type": "stream",
       "stream": "stdout",
       "text": [
        "\n",
        "Total loss: 0.192841978814\n",
        "Total loss: 0.193124212702"
       ]
      },
      {
       "output_type": "stream",
       "stream": "stdout",
       "text": [
        "\n",
        "Total loss: 0.194381881325\n",
        "Total loss: 0.195422771134"
       ]
      },
      {
       "output_type": "stream",
       "stream": "stdout",
       "text": [
        "\n",
        "\n",
        "Training one-vs-rest SVM for class 4\n",
        "Total loss: 0.210110861193\n",
        "Total loss: 0.163966253414"
       ]
      },
      {
       "output_type": "stream",
       "stream": "stdout",
       "text": [
        "\n",
        "Total loss: 0.161928082248\n",
        "Total loss: 0.168473912038"
       ]
      },
      {
       "output_type": "stream",
       "stream": "stdout",
       "text": [
        "\n",
        "Total loss: 0.160180566663\n",
        "Total loss: 0.160591227546"
       ]
      },
      {
       "output_type": "stream",
       "stream": "stdout",
       "text": [
        "\n",
        "Total loss: 0.164001762109"
       ]
      },
      {
       "output_type": "stream",
       "stream": "stdout",
       "text": [
        "\n",
        "Total loss: 0.160094538498"
       ]
      },
      {
       "output_type": "stream",
       "stream": "stdout",
       "text": [
        "\n",
        "Total loss: 0.159861340046\n",
        "Total loss: 0.159761778253"
       ]
      },
      {
       "output_type": "stream",
       "stream": "stdout",
       "text": [
        "\n",
        "\n",
        "Training one-vs-rest SVM for class 5\n",
        "Total loss: 0.277752012424"
       ]
      },
      {
       "output_type": "stream",
       "stream": "stdout",
       "text": [
        "\n",
        "Total loss: 0.209464643612"
       ]
      },
      {
       "output_type": "stream",
       "stream": "stdout",
       "text": [
        "\n",
        "Total loss: 0.203930507832\n",
        "Total loss: 0.201545647175"
       ]
      },
      {
       "output_type": "stream",
       "stream": "stdout",
       "text": [
        "\n",
        "Total loss: 0.201763509877\n",
        "Total loss: 0.201762658228"
       ]
      },
      {
       "output_type": "stream",
       "stream": "stdout",
       "text": [
        "\n",
        "Total loss: 0.201042638691\n",
        "Total loss: 0.200008336712"
       ]
      },
      {
       "output_type": "stream",
       "stream": "stdout",
       "text": [
        "\n",
        "Total loss: 0.202032623248\n",
        "Total loss: 0.199888866878"
       ]
      },
      {
       "output_type": "stream",
       "stream": "stdout",
       "text": [
        "\n",
        "\n",
        "Training one-vs-rest SVM for class 6\n",
        "Total loss: 0.157144850061\n",
        "Total loss: 0.181607790258"
       ]
      },
      {
       "output_type": "stream",
       "stream": "stdout",
       "text": [
        "\n",
        "Total loss: 0.146816037803\n",
        "Total loss: 0.154780439119"
       ]
      },
      {
       "output_type": "stream",
       "stream": "stdout",
       "text": [
        "\n",
        "Total loss: 0.143721013174\n",
        "Total loss: 0.145681780627"
       ]
      },
      {
       "output_type": "stream",
       "stream": "stdout",
       "text": [
        "\n",
        "Total loss: 0.142838985063\n",
        "Total loss: 0.142752895403"
       ]
      },
      {
       "output_type": "stream",
       "stream": "stdout",
       "text": [
        "\n",
        "Total loss: 0.143076693781\n",
        "Total loss: 0.142613368226"
       ]
      },
      {
       "output_type": "stream",
       "stream": "stdout",
       "text": [
        "\n",
        "\n",
        "Training one-vs-rest SVM for class 7\n",
        "Total loss: 0.173985454732\n",
        "Total loss: 0.149965810484"
       ]
      },
      {
       "output_type": "stream",
       "stream": "stdout",
       "text": [
        "\n",
        "Total loss: 0.142875823407\n",
        "Total loss: 0.143071994272"
       ]
      },
      {
       "output_type": "stream",
       "stream": "stdout",
       "text": [
        "\n",
        "Total loss: 0.142992523583\n",
        "Total loss: 0.139098531694"
       ]
      },
      {
       "output_type": "stream",
       "stream": "stdout",
       "text": [
        "\n",
        "Total loss: 0.138935275975\n",
        "Total loss: 0.138303573743"
       ]
      },
      {
       "output_type": "stream",
       "stream": "stdout",
       "text": [
        "\n",
        "Total loss: 0.139119490336\n",
        "Total loss: 0.140621048252"
       ]
      },
      {
       "output_type": "stream",
       "stream": "stdout",
       "text": [
        "\n",
        "\n",
        "Training one-vs-rest SVM for class 8\n",
        "Total loss: 0.304913863827\n",
        "Total loss: 0.227619786191"
       ]
      },
      {
       "output_type": "stream",
       "stream": "stdout",
       "text": [
        "\n",
        "Total loss: 0.225161671336\n",
        "Total loss: 0.225537840003"
       ]
      },
      {
       "output_type": "stream",
       "stream": "stdout",
       "text": [
        "\n",
        "Total loss: 0.226508668273\n",
        "Total loss: 0.22334898814"
       ]
      },
      {
       "output_type": "stream",
       "stream": "stdout",
       "text": [
        "\n",
        "Total loss: 0.22411300554\n",
        "Total loss: 0.222537487475"
       ]
      },
      {
       "output_type": "stream",
       "stream": "stdout",
       "text": [
        "\n",
        "Total loss: 0.226968519564\n",
        "Total loss: 0.222543963543"
       ]
      },
      {
       "output_type": "stream",
       "stream": "stdout",
       "text": [
        "\n",
        "\n",
        "Training one-vs-rest SVM for class 9\n",
        "Total loss: 0.223136126536\n",
        "Total loss: 0.218613866352"
       ]
      },
      {
       "output_type": "stream",
       "stream": "stdout",
       "text": [
        "\n",
        "Total loss: 0.222186677931"
       ]
      },
      {
       "output_type": "stream",
       "stream": "stdout",
       "text": [
        "\n",
        "Total loss: 0.214995496248"
       ]
      },
      {
       "output_type": "stream",
       "stream": "stdout",
       "text": [
        "\n",
        "Total loss: 0.214166538478"
       ]
      },
      {
       "output_type": "stream",
       "stream": "stdout",
       "text": [
        "\n",
        "Total loss: 0.213006165797"
       ]
      },
      {
       "output_type": "stream",
       "stream": "stdout",
       "text": [
        "\n",
        "Total loss: 0.218230614158"
       ]
      },
      {
       "output_type": "stream",
       "stream": "stdout",
       "text": [
        "\n",
        "Total loss: 0.215072952739\n",
        "Total loss: 0.21191259106"
       ]
      },
      {
       "output_type": "stream",
       "stream": "stdout",
       "text": [
        "\n",
        "Total loss: 0.211927521968\n"
       ]
      }
     ],
     "prompt_number": 5
    },
    {
     "cell_type": "markdown",
     "metadata": {},
     "source": [
      "Now, we evaluate the performance of the pixel-data SVM on the relevant test set (confusion matrix rows are true values, columns are classifications)."
     ]
    },
    {
     "cell_type": "code",
     "collapsed": false,
     "input": [
      "pixelPegasos.testOnSet(df.labeled(df.flatPixelTestData()))"
     ],
     "language": "python",
     "metadata": {},
     "outputs": [
      {
       "output_type": "stream",
       "stream": "stdout",
       "text": [
        "Total error:  22 %\n",
        "Error for class 0: 3.8%\n",
        "Error for class 1: 3.6%\n",
        "Error for class 2: 24.3%\n",
        "Error for class 3: 23.3%\n",
        "Error for class 4: 18.3%\n",
        "Error for class 5: 45.1%\n",
        "Error for class 6: 12.0%\n",
        "Error for class 7: 7.9%\n",
        "Error for class 8: 45.4%\n",
        "Error for class 9: 39.1%\n",
        "[[ 962.    2.    0.    0.    7.    0.   23.    2.    3.    1.]\n",
        " [   0.  964.    8.    3.    1.   10.    5.    3.    3.    3.]\n",
        " [  18.   73.  757.    5.   14.    1.   58.   54.   19.    1.]\n",
        " [  31.   18.   34.  767.    2.   61.   22.   38.   16.   11.]\n",
        " [   2.   18.    7.    6.  817.    3.   72.   12.    4.   59.]\n",
        " [ 136.   38.    9.   76.   38.  549.   50.   25.   49.   30.]\n",
        " [  29.   24.   15.    0.   25.   25.  880.    2.    0.    0.]\n",
        " [   4.   33.    7.    2.   13.    0.    1.  921.    2.   17.]\n",
        " [  63.  109.   23.   25.   45.   56.   27.   51.  546.   55.]\n",
        " [  10.    9.    6.   17.  126.    8.    7.  204.    4.  609.]]\n"
       ]
      }
     ],
     "prompt_number": 6
    },
    {
     "cell_type": "markdown",
     "metadata": {},
     "source": [
      "Evidently, the performance of Pegasos on pixel data isn't quite as good as the LibSVM/LibLinear SVMs, although it is close. However, there are some Pegasos parameters, like learning rate, that we can tweak in an effort to make the error rates slightly lower."
     ]
    },
    {
     "cell_type": "markdown",
     "metadata": {},
     "source": [
      "Next, we repeat the experiment on edge data:"
     ]
    },
    {
     "cell_type": "code",
     "collapsed": false,
     "input": [
      "edgePegasos = PegasosSVM()\n",
      "#Third argument is number of iterations\n",
      "edgePegasos.trainOnSet(df.labeled(df.flatEdgeTrainData()), df.flatEdgeTrainData(), 8000)"
     ],
     "language": "python",
     "metadata": {},
     "outputs": [
      {
       "output_type": "stream",
       "stream": "stdout",
       "text": [
        "\n",
        "Training one-vs-rest SVM for class 0\n",
        "Total loss: 0.279947762817"
       ]
      },
      {
       "output_type": "stream",
       "stream": "stdout",
       "text": [
        "\n",
        "Total loss: 0.0601998048654"
       ]
      },
      {
       "output_type": "stream",
       "stream": "stdout",
       "text": [
        "\n",
        "Total loss: 0.0505932650694"
       ]
      },
      {
       "output_type": "stream",
       "stream": "stdout",
       "text": [
        "\n",
        "Total loss: 0.0451605454273"
       ]
      },
      {
       "output_type": "stream",
       "stream": "stdout",
       "text": [
        "\n",
        "Total loss: 0.0525377192556"
       ]
      },
      {
       "output_type": "stream",
       "stream": "stdout",
       "text": [
        "\n",
        "Total loss: 0.0439086901817"
       ]
      },
      {
       "output_type": "stream",
       "stream": "stdout",
       "text": [
        "\n",
        "Total loss: 0.0411926355466"
       ]
      },
      {
       "output_type": "stream",
       "stream": "stdout",
       "text": [
        "\n",
        "Total loss: 0.0378814326492"
       ]
      },
      {
       "output_type": "stream",
       "stream": "stdout",
       "text": [
        "\n",
        "Total loss: 0.0361289664231"
       ]
      },
      {
       "output_type": "stream",
       "stream": "stdout",
       "text": [
        "\n",
        "Total loss: 0.0372208654995"
       ]
      },
      {
       "output_type": "stream",
       "stream": "stdout",
       "text": [
        "\n",
        "\n",
        "Training one-vs-rest SVM for class 1\n",
        "Total loss: 0.154764616869"
       ]
      },
      {
       "output_type": "stream",
       "stream": "stdout",
       "text": [
        "\n",
        "Total loss: 0.0593006298232"
       ]
      },
      {
       "output_type": "stream",
       "stream": "stdout",
       "text": [
        "\n",
        "Total loss: 0.0541149734494"
       ]
      },
      {
       "output_type": "stream",
       "stream": "stdout",
       "text": [
        "\n",
        "Total loss: 0.0491168291261"
       ]
      },
      {
       "output_type": "stream",
       "stream": "stdout",
       "text": [
        "\n",
        "Total loss: 0.0516079935309"
       ]
      },
      {
       "output_type": "stream",
       "stream": "stdout",
       "text": [
        "\n",
        "Total loss: 0.0476500937578"
       ]
      },
      {
       "output_type": "stream",
       "stream": "stdout",
       "text": [
        "\n",
        "Total loss: 0.0442634212667"
       ]
      },
      {
       "output_type": "stream",
       "stream": "stdout",
       "text": [
        "\n",
        "Total loss: 0.0577463581012"
       ]
      },
      {
       "output_type": "stream",
       "stream": "stdout",
       "text": [
        "\n",
        "Total loss: 0.0423944805495"
       ]
      },
      {
       "output_type": "stream",
       "stream": "stdout",
       "text": [
        "\n",
        "Total loss: 0.041975258533"
       ]
      },
      {
       "output_type": "stream",
       "stream": "stdout",
       "text": [
        "\n",
        "\n",
        "Training one-vs-rest SVM for class 2\n",
        "Total loss: 0.156072671005"
       ]
      },
      {
       "output_type": "stream",
       "stream": "stdout",
       "text": [
        "\n",
        "Total loss: 0.100404985049"
       ]
      },
      {
       "output_type": "stream",
       "stream": "stdout",
       "text": [
        "\n",
        "Total loss: 0.0713886942186"
       ]
      },
      {
       "output_type": "stream",
       "stream": "stdout",
       "text": [
        "\n",
        "Total loss: 0.0647770816426"
       ]
      },
      {
       "output_type": "stream",
       "stream": "stdout",
       "text": [
        "\n",
        "Total loss: 0.0608607531635"
       ]
      },
      {
       "output_type": "stream",
       "stream": "stdout",
       "text": [
        "\n",
        "Total loss: 0.0712682997751"
       ]
      },
      {
       "output_type": "stream",
       "stream": "stdout",
       "text": [
        "\n",
        "Total loss: 0.0616927984084"
       ]
      },
      {
       "output_type": "stream",
       "stream": "stdout",
       "text": [
        "\n",
        "Total loss: 0.0631935896511"
       ]
      },
      {
       "output_type": "stream",
       "stream": "stdout",
       "text": [
        "\n",
        "Total loss: 0.0577580826133"
       ]
      },
      {
       "output_type": "stream",
       "stream": "stdout",
       "text": [
        "\n",
        "Total loss: 0.0546195831235"
       ]
      },
      {
       "output_type": "stream",
       "stream": "stdout",
       "text": [
        "\n",
        "\n",
        "Training one-vs-rest SVM for class 3\n",
        "Total loss: 0.217123551491"
       ]
      },
      {
       "output_type": "stream",
       "stream": "stdout",
       "text": [
        "\n",
        "Total loss: 0.0933768898258"
       ]
      },
      {
       "output_type": "stream",
       "stream": "stdout",
       "text": [
        "\n",
        "Total loss: 0.0732363618025"
       ]
      },
      {
       "output_type": "stream",
       "stream": "stdout",
       "text": [
        "\n",
        "Total loss: 0.0720867880753"
       ]
      },
      {
       "output_type": "stream",
       "stream": "stdout",
       "text": [
        "\n",
        "Total loss: 0.0681049642788"
       ]
      },
      {
       "output_type": "stream",
       "stream": "stdout",
       "text": [
        "\n",
        "Total loss: 0.0866051510998"
       ]
      },
      {
       "output_type": "stream",
       "stream": "stdout",
       "text": [
        "\n",
        "Total loss: 0.0595048557901"
       ]
      },
      {
       "output_type": "stream",
       "stream": "stdout",
       "text": [
        "\n",
        "Total loss: 0.0611225754289"
       ]
      },
      {
       "output_type": "stream",
       "stream": "stdout",
       "text": [
        "\n",
        "Total loss: 0.0600456729038"
       ]
      },
      {
       "output_type": "stream",
       "stream": "stdout",
       "text": [
        "\n",
        "Total loss: 0.059664017687"
       ]
      },
      {
       "output_type": "stream",
       "stream": "stdout",
       "text": [
        "\n",
        "\n",
        "Training one-vs-rest SVM for class 4\n",
        "Total loss: 0.147131233867"
       ]
      },
      {
       "output_type": "stream",
       "stream": "stdout",
       "text": [
        "\n",
        "Total loss: 0.0820124032675"
       ]
      },
      {
       "output_type": "stream",
       "stream": "stdout",
       "text": [
        "\n",
        "Total loss: 0.0781131823541"
       ]
      },
      {
       "output_type": "stream",
       "stream": "stdout",
       "text": [
        "\n",
        "Total loss: 0.0605202740817"
       ]
      },
      {
       "output_type": "stream",
       "stream": "stdout",
       "text": [
        "\n",
        "Total loss: 0.0623253359141"
       ]
      },
      {
       "output_type": "stream",
       "stream": "stdout",
       "text": [
        "\n",
        "Total loss: 0.0649816847186"
       ]
      },
      {
       "output_type": "stream",
       "stream": "stdout",
       "text": [
        "\n",
        "Total loss: 0.057313778069"
       ]
      },
      {
       "output_type": "stream",
       "stream": "stdout",
       "text": [
        "\n",
        "Total loss: 0.057902623896"
       ]
      },
      {
       "output_type": "stream",
       "stream": "stdout",
       "text": [
        "\n",
        "Total loss: 0.0553074803495"
       ]
      },
      {
       "output_type": "stream",
       "stream": "stdout",
       "text": [
        "\n",
        "Total loss: 0.0559415486846"
       ]
      },
      {
       "output_type": "stream",
       "stream": "stdout",
       "text": [
        "\n",
        "\n",
        "Training one-vs-rest SVM for class 5\n",
        "Total loss: 0.134111383008"
       ]
      },
      {
       "output_type": "stream",
       "stream": "stdout",
       "text": [
        "\n",
        "Total loss: 0.0927102770997"
       ]
      },
      {
       "output_type": "stream",
       "stream": "stdout",
       "text": [
        "\n",
        "Total loss: 0.0845294954287"
       ]
      },
      {
       "output_type": "stream",
       "stream": "stdout",
       "text": [
        "\n",
        "Total loss: 0.0831024951882"
       ]
      },
      {
       "output_type": "stream",
       "stream": "stdout",
       "text": [
        "\n",
        "Total loss: 0.0688260207986"
       ]
      },
      {
       "output_type": "stream",
       "stream": "stdout",
       "text": [
        "\n",
        "Total loss: 0.0725738600614"
       ]
      },
      {
       "output_type": "stream",
       "stream": "stdout",
       "text": [
        "\n",
        "Total loss: 0.0692897369764"
       ]
      },
      {
       "output_type": "stream",
       "stream": "stdout",
       "text": [
        "\n",
        "Total loss: 0.0640935035147"
       ]
      },
      {
       "output_type": "stream",
       "stream": "stdout",
       "text": [
        "\n",
        "Total loss: 0.0615923396471"
       ]
      },
      {
       "output_type": "stream",
       "stream": "stdout",
       "text": [
        "\n",
        "Total loss: 0.0631210319775"
       ]
      },
      {
       "output_type": "stream",
       "stream": "stdout",
       "text": [
        "\n",
        "\n",
        "Training one-vs-rest SVM for class 6\n",
        "Total loss: 0.0949308897415"
       ]
      },
      {
       "output_type": "stream",
       "stream": "stdout",
       "text": [
        "\n",
        "Total loss: 0.0594123809708"
       ]
      },
      {
       "output_type": "stream",
       "stream": "stdout",
       "text": [
        "\n",
        "Total loss: 0.0543854638441"
       ]
      },
      {
       "output_type": "stream",
       "stream": "stdout",
       "text": [
        "\n",
        "Total loss: 0.0432580061753"
       ]
      },
      {
       "output_type": "stream",
       "stream": "stdout",
       "text": [
        "\n",
        "Total loss: 0.0414605277565"
       ]
      },
      {
       "output_type": "stream",
       "stream": "stdout",
       "text": [
        "\n",
        "Total loss: 0.039675367721"
       ]
      },
      {
       "output_type": "stream",
       "stream": "stdout",
       "text": [
        "\n",
        "Total loss: 0.0398061524595"
       ]
      },
      {
       "output_type": "stream",
       "stream": "stdout",
       "text": [
        "\n",
        "Total loss: 0.0393092172936"
       ]
      },
      {
       "output_type": "stream",
       "stream": "stdout",
       "text": [
        "\n",
        "Total loss: 0.0385522205183"
       ]
      },
      {
       "output_type": "stream",
       "stream": "stdout",
       "text": [
        "\n",
        "Total loss: 0.0382960014471"
       ]
      },
      {
       "output_type": "stream",
       "stream": "stdout",
       "text": [
        "\n",
        "\n",
        "Training one-vs-rest SVM for class 7\n",
        "Total loss: 0.112187630696"
       ]
      },
      {
       "output_type": "stream",
       "stream": "stdout",
       "text": [
        "\n",
        "Total loss: 0.084846332384"
       ]
      },
      {
       "output_type": "stream",
       "stream": "stdout",
       "text": [
        "\n",
        "Total loss: 0.0754873102826"
       ]
      },
      {
       "output_type": "stream",
       "stream": "stdout",
       "text": [
        "\n",
        "Total loss: 0.0681084189882"
       ]
      },
      {
       "output_type": "stream",
       "stream": "stdout",
       "text": [
        "\n",
        "Total loss: 0.0576227495353"
       ]
      },
      {
       "output_type": "stream",
       "stream": "stdout",
       "text": [
        "\n",
        "Total loss: 0.053779597329"
       ]
      },
      {
       "output_type": "stream",
       "stream": "stdout",
       "text": [
        "\n",
        "Total loss: 0.0528322743004"
       ]
      },
      {
       "output_type": "stream",
       "stream": "stdout",
       "text": [
        "\n",
        "Total loss: 0.0583057499855"
       ]
      },
      {
       "output_type": "stream",
       "stream": "stdout",
       "text": [
        "\n",
        "Total loss: 0.0589122004497"
       ]
      },
      {
       "output_type": "stream",
       "stream": "stdout",
       "text": [
        "\n",
        "Total loss: 0.0545380003672"
       ]
      },
      {
       "output_type": "stream",
       "stream": "stdout",
       "text": [
        "\n",
        "\n",
        "Training one-vs-rest SVM for class 8\n",
        "Total loss: 0.185756559614"
       ]
      },
      {
       "output_type": "stream",
       "stream": "stdout",
       "text": [
        "\n",
        "Total loss: 0.131425049798"
       ]
      },
      {
       "output_type": "stream",
       "stream": "stdout",
       "text": [
        "\n",
        "Total loss: 0.137160220841"
       ]
      },
      {
       "output_type": "stream",
       "stream": "stdout",
       "text": [
        "\n",
        "Total loss: 0.102499868714"
       ]
      },
      {
       "output_type": "stream",
       "stream": "stdout",
       "text": [
        "\n",
        "Total loss: 0.128533878355"
       ]
      },
      {
       "output_type": "stream",
       "stream": "stdout",
       "text": [
        "\n",
        "Total loss: 0.112734049004"
       ]
      },
      {
       "output_type": "stream",
       "stream": "stdout",
       "text": [
        "\n",
        "Total loss: 0.0961033437242"
       ]
      },
      {
       "output_type": "stream",
       "stream": "stdout",
       "text": [
        "\n",
        "Total loss: 0.101169077765"
       ]
      },
      {
       "output_type": "stream",
       "stream": "stdout",
       "text": [
        "\n",
        "Total loss: 0.0865643703796"
       ]
      },
      {
       "output_type": "stream",
       "stream": "stdout",
       "text": [
        "\n",
        "Total loss: 0.0880764421001"
       ]
      },
      {
       "output_type": "stream",
       "stream": "stdout",
       "text": [
        "\n",
        "\n",
        "Training one-vs-rest SVM for class 9\n",
        "Total loss: 0.188833585992"
       ]
      },
      {
       "output_type": "stream",
       "stream": "stdout",
       "text": [
        "\n",
        "Total loss: 0.14248855272"
       ]
      },
      {
       "output_type": "stream",
       "stream": "stdout",
       "text": [
        "\n",
        "Total loss: 0.124480859278"
       ]
      },
      {
       "output_type": "stream",
       "stream": "stdout",
       "text": [
        "\n",
        "Total loss: 0.0941113895144"
       ]
      },
      {
       "output_type": "stream",
       "stream": "stdout",
       "text": [
        "\n",
        "Total loss: 0.0850558655665"
       ]
      },
      {
       "output_type": "stream",
       "stream": "stdout",
       "text": [
        "\n",
        "Total loss: 0.0830319783697"
       ]
      },
      {
       "output_type": "stream",
       "stream": "stdout",
       "text": [
        "\n",
        "Total loss: 0.0822056418745"
       ]
      },
      {
       "output_type": "stream",
       "stream": "stdout",
       "text": [
        "\n",
        "Total loss: 0.0794828443393"
       ]
      },
      {
       "output_type": "stream",
       "stream": "stdout",
       "text": [
        "\n",
        "Total loss: 0.0931528716734"
       ]
      },
      {
       "output_type": "stream",
       "stream": "stdout",
       "text": [
        "\n",
        "Total loss: 0.0828477204954"
       ]
      },
      {
       "output_type": "stream",
       "stream": "stdout",
       "text": [
        "\n"
       ]
      }
     ],
     "prompt_number": 7
    },
    {
     "cell_type": "markdown",
     "metadata": {},
     "source": [
      "We can see that the loss function for every class stabilizes at significantly lower values on the edge data compared to when the model is trained on the pixel data. Evidently, the SVM is better able to separate a class from the other classes when provided with edge features, which makes sense because edges are a more sensible feature for the data (considering the digits have already been centered).\n",
      "\n",
      "We now test the performance of the edge-based Pegasos classifier:"
     ]
    },
    {
     "cell_type": "code",
     "collapsed": false,
     "input": [
      "edgePegasos.testOnSet(df.labeled(df.flatEdgeTestData()))"
     ],
     "language": "python",
     "metadata": {},
     "outputs": [
      {
       "output_type": "stream",
       "stream": "stdout",
       "text": [
        "Total error:  6 %\n",
        "Error for class 0: 1.8%\n",
        "Error for class 1: 3.1%\n",
        "Error for class 2: 3.7%\n",
        "Error for class 3: 8.5%\n",
        "Error for class 4: 3.6%\n",
        "Error for class 5: 7.3%\n",
        "Error for class 6: 5.5%\n",
        "Error for class 7: 8.2%\n",
        "Error for class 8: 10.8%\n",
        "Error for class 9: 9.6%\n",
        "[[ 982.    3.    0.    1.    2.    1.    9.    0.    1.    1.]\n",
        " [   0.  969.   12.    1.    4.    2.    0.    2.    7.    3.]\n",
        " [   3.    1.  963.    5.    5.    1.    3.    5.   11.    3.]\n",
        " [   2.    1.   14.  915.    1.   37.    0.    4.   20.    6.]\n",
        " [   2.    5.    4.    0.  964.    0.    9.    1.    3.   12.]\n",
        " [   4.    9.    3.    6.    0.  927.    9.    0.   38.    4.]\n",
        " [  12.    2.    0.    0.    3.   30.  945.    0.    8.    0.]\n",
        " [   2.    4.   22.    9.   14.    2.    0.  918.    8.   21.]\n",
        " [  10.   14.   15.   18.   14.   12.    6.    0.  892.   19.]\n",
        " [   7.    3.    6.   11.   26.   10.    1.   22.   10.  904.]]\n"
       ]
      }
     ],
     "prompt_number": 8
    },
    {
     "cell_type": "markdown",
     "metadata": {},
     "source": [
      "As expected, the performance is much better on the edge data than it was on the pixel data. In fact, Pegasos performs as well or better than the scikit-learn SVM algorithms on the edge data."
     ]
    },
    {
     "cell_type": "markdown",
     "metadata": {},
     "source": [
      "Next, we look at the performance of a simple discrete-synapse-weight neural net on MNIST digit classification."
     ]
    },
    {
     "cell_type": "code",
     "collapsed": false,
     "input": [
      "from neural_net import NeuralNet"
     ],
     "language": "python",
     "metadata": {},
     "outputs": [],
     "prompt_number": 2
    },
    {
     "cell_type": "markdown",
     "metadata": {},
     "source": [
      "Again, let's try using the neural net (with the default value of 10 neurons per class) on the pixel and edge data"
     ]
    },
    {
     "cell_type": "code",
     "collapsed": false,
     "input": [
      "pixelNet = NeuralNet(10)\n",
      "pixelNet.trainOnSet(df.labeled(df.flatPixelTrainData()), 8000)"
     ],
     "language": "python",
     "metadata": {},
     "outputs": [
      {
       "output_type": "stream",
       "stream": "stdout",
       "text": [
        "Training neural net on 8000 examples\n",
        "0% done\n",
        "1% done"
       ]
      },
      {
       "output_type": "stream",
       "stream": "stdout",
       "text": [
        "\n",
        "99% done"
       ]
      },
      {
       "output_type": "stream",
       "stream": "stdout",
       "text": [
        "\n",
        "Neural net training complete!"
       ]
      },
      {
       "output_type": "stream",
       "stream": "stdout",
       "text": [
        "\n"
       ]
      }
     ],
     "prompt_number": 4
    },
    {
     "cell_type": "code",
     "collapsed": false,
     "input": [
      "pixelNet.testOnSet(df.flatPixelTestData().reshape(10,1000,900))"
     ],
     "language": "python",
     "metadata": {},
     "outputs": [
      {
       "output_type": "stream",
       "stream": "stdout",
       "text": [
        "Character  0 :  40  errors out of  1000 ;  4  % error\n",
        "Character "
       ]
      },
      {
       "output_type": "stream",
       "stream": "stdout",
       "text": [
        " 1 :  105  errors out of  1000 ;  10  % error\n",
        "Character "
       ]
      },
      {
       "output_type": "stream",
       "stream": "stdout",
       "text": [
        " 2 :  165  errors out of  1000 ;  16  % error\n",
        "Character "
       ]
      },
      {
       "output_type": "stream",
       "stream": "stdout",
       "text": [
        " 3 :  236  errors out of  1000 ;  23  % error\n",
        "Character "
       ]
      },
      {
       "output_type": "stream",
       "stream": "stdout",
       "text": [
        " 4 :  199  errors out of  1000 ;  19  % error\n",
        "Character "
       ]
      },
      {
       "output_type": "stream",
       "stream": "stdout",
       "text": [
        " 5 :  500  errors out of  1000 ;  50  % error\n",
        "Character "
       ]
      },
      {
       "output_type": "stream",
       "stream": "stdout",
       "text": [
        " 6 :  165  errors out of  1000 ;  16  % error\n",
        "Character "
       ]
      },
      {
       "output_type": "stream",
       "stream": "stdout",
       "text": [
        " 7 :  211  errors out of  1000 ;  21  % error\n",
        "Character "
       ]
      },
      {
       "output_type": "stream",
       "stream": "stdout",
       "text": [
        " 8 :  354  errors out of  1000 ;  35  % error\n",
        "Character "
       ]
      },
      {
       "output_type": "stream",
       "stream": "stdout",
       "text": [
        " 9 :  288  errors out of  1000 ;  28  % error\n",
        "Total error:  22 %\n"
       ]
      }
     ],
     "prompt_number": 4
    },
    {
     "cell_type": "markdown",
     "metadata": {},
     "source": [
      "So, on the raw pixel data the neural net with 10 neurons per class classifies digits with the same overall error rate as the Pegasos SVM implementation, although with much higher variability between the error rates among the classes."
     ]
    },
    {
     "cell_type": "markdown",
     "metadata": {},
     "source": [
      "Now, for edges:"
     ]
    },
    {
     "cell_type": "code",
     "collapsed": false,
     "input": [
      "edgeNet = NeuralNet(10)\n",
      "edgeNet.trainOnSet(df.labeled(df.flatEdgeTrainData()), 8000)"
     ],
     "language": "python",
     "metadata": {},
     "outputs": [
      {
       "output_type": "stream",
       "stream": "stdout",
       "text": [
        "Training neural net on 8000 examples\n",
        "0% done\n",
        "1% done"
       ]
      },
      {
       "output_type": "stream",
       "stream": "stdout",
       "text": [
        "\n",
        "99% done"
       ]
      },
      {
       "output_type": "stream",
       "stream": "stdout",
       "text": [
        "\n",
        "Neural net training complete!"
       ]
      },
      {
       "output_type": "stream",
       "stream": "stdout",
       "text": [
        "\n"
       ]
      }
     ],
     "prompt_number": 3
    },
    {
     "cell_type": "code",
     "collapsed": false,
     "input": [
      "edgeNet.testOnSet(df.flatEdgeTestData().reshape(10,1000,7200))"
     ],
     "language": "python",
     "metadata": {},
     "outputs": [
      {
       "output_type": "stream",
       "stream": "stdout",
       "text": [
        "Character  0 :  28  errors out of  1000 ;  2  % error\n",
        "Character "
       ]
      },
      {
       "output_type": "stream",
       "stream": "stdout",
       "text": [
        " 1 :  27  errors out of  1000 ;  2  % error\n",
        "Character "
       ]
      },
      {
       "output_type": "stream",
       "stream": "stdout",
       "text": [
        " 2 :  52  errors out of  1000 ;  5  % error\n",
        "Character "
       ]
      },
      {
       "output_type": "stream",
       "stream": "stdout",
       "text": [
        " 3 :  47  errors out of  1000 ;  4  % error\n",
        "Character "
       ]
      },
      {
       "output_type": "stream",
       "stream": "stdout",
       "text": [
        " 4 :  43  errors out of  1000 ;  4  % error\n",
        "Character "
       ]
      },
      {
       "output_type": "stream",
       "stream": "stdout",
       "text": [
        " 5 :  99  errors out of  1000 ;  9  % error\n",
        "Character "
       ]
      },
      {
       "output_type": "stream",
       "stream": "stdout",
       "text": [
        " 6 :  77  errors out of  1000 ;  7  % error\n",
        "Character "
       ]
      },
      {
       "output_type": "stream",
       "stream": "stdout",
       "text": [
        " 7 :  65  errors out of  1000 ;  6  % error\n",
        "Character "
       ]
      },
      {
       "output_type": "stream",
       "stream": "stdout",
       "text": [
        " 8 :  210  errors out of  1000 ;  21  % error\n",
        "Character "
       ]
      },
      {
       "output_type": "stream",
       "stream": "stdout",
       "text": [
        " 9 :  189  errors out of  1000 ;  18  % error\n",
        "Total error:  8 %\n"
       ]
      }
     ],
     "prompt_number": 5
    },
    {
     "cell_type": "markdown",
     "metadata": {},
     "source": [
      "So, the neural net does almost as well as the Pegasos classifier on the edge data, but has greater variability among digits."
     ]
    }
   ],
   "metadata": {}
  }
 ]
}
