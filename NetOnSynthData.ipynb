{
 "metadata": {
  "name": "NetOnSynthData"
 },
 "nbformat": 3,
 "nbformat_minor": 0,
 "worksheets": [
  {
   "cells": [
    {
     "cell_type": "code",
     "collapsed": false,
     "input": [
      "import numpy as np\n",
      "import synth_features as sf\n",
      "from neural_net import NeuralNet"
     ],
     "language": "python",
     "metadata": {},
     "outputs": [],
     "prompt_number": 1
    },
    {
     "cell_type": "markdown",
     "metadata": {},
     "source": [
      "The synth_features library generates N- (currently 100) length binary vectors of two types: for the \"negative\"-class vectors, the probability of any entry being 1 is P_BGD (currently .2). For the \"positive\"-class vectors, the probability for the first M (currently 10) entries is P_HIGH, for the next M it's P_LOW, and the rest is P_BGD. We seek to evaluate how well a neural net can discriminate between the two classes."
     ]
    },
    {
     "cell_type": "code",
     "collapsed": false,
     "input": [
      "neuronsPerClass = 100\n",
      "numIterations = 10000\n",
      "# with 100 neurons and 10000 training iterations, neither should be a limiting factor"
     ],
     "language": "python",
     "metadata": {},
     "outputs": [],
     "prompt_number": 2
    },
    {
     "cell_type": "code",
     "collapsed": false,
     "input": [
      "trainPtsPerClass = 100\n",
      "testPtsPerClass = 1000\n",
      "\n",
      "\n",
      "trainData = sf.labeled(sf.synthData(100))\n",
      "testData = sf.synthData(1000).reshape(2,1000,100)"
     ],
     "language": "python",
     "metadata": {},
     "outputs": [],
     "prompt_number": 3
    },
    {
     "cell_type": "code",
     "collapsed": false,
     "input": [
      "delta = 1 # margin of \"not good enough classification\" that triggers iterative training of neural net\n",
      "\n",
      "\n",
      "net = NeuralNet(neuronsPerClass, delta)\n",
      "net.trainOnSet(trainData, numIterations)\n",
      "net.testOnSet(testData)\n",
      "net.displayClassMeans()"
     ],
     "language": "python",
     "metadata": {},
     "outputs": [
      {
       "output_type": "stream",
       "stream": "stdout",
       "text": [
        "Training neural net on 10000 examples\n",
        "0% done\n",
        "20% done"
       ]
      },
      {
       "output_type": "stream",
       "stream": "stdout",
       "text": [
        "\n",
        "40% done"
       ]
      },
      {
       "output_type": "stream",
       "stream": "stdout",
       "text": [
        "\n",
        "60% done"
       ]
      },
      {
       "output_type": "stream",
       "stream": "stdout",
       "text": [
        "\n",
        "80% done"
       ]
      },
      {
       "output_type": "stream",
       "stream": "stdout",
       "text": [
        "\n",
        "Neural net training complete!"
       ]
      },
      {
       "output_type": "stream",
       "stream": "stdout",
       "text": [
        "\n",
        "Character "
       ]
      },
      {
       "output_type": "stream",
       "stream": "stdout",
       "text": [
        " 0 :  325  errors out of  1000 ;  32  % error\n",
        "Character "
       ]
      },
      {
       "output_type": "stream",
       "stream": "stdout",
       "text": [
        " 1 :  247  errors out of  1000 ;  24  % error\n",
        "Total error:  28 %\n"
       ]
      },
      {
       "output_type": "display_data",
       "png": "[encoded data removed]"
      }
     ],
     "prompt_number": 5
    },
    {
     "cell_type": "code",
     "collapsed": false,
     "input": [
      "delta = 5 # margin of \"not good enough classification\" that triggers iterative training of neural net\n",
      "\n",
      "\n",
      "net = NeuralNet(neuronsPerClass, delta)\n",
      "net.trainOnSet(trainData, numIterations)\n",
      "net.testOnSet(testData)\n",
      "net.displayClassMeans()"
     ],
     "language": "python",
     "metadata": {},
     "outputs": [
      {
       "output_type": "stream",
       "stream": "stdout",
       "text": [
        "Training neural net on 10000 examples\n",
        "0% done\n",
        "20% done"
       ]
      },
      {
       "output_type": "stream",
       "stream": "stdout",
       "text": [
        "\n",
        "40% done"
       ]
      },
      {
       "output_type": "stream",
       "stream": "stdout",
       "text": [
        "\n",
        "60% done"
       ]
      },
      {
       "output_type": "stream",
       "stream": "stdout",
       "text": [
        "\n",
        "80% done"
       ]
      },
      {
       "output_type": "stream",
       "stream": "stdout",
       "text": [
        "\n",
        "Neural net training complete!"
       ]
      },
      {
       "output_type": "stream",
       "stream": "stdout",
       "text": [
        "\n",
        "Character  0 :  377  errors out of  1000 ;  37  % error\n",
        "Character "
       ]
      },
      {
       "output_type": "stream",
       "stream": "stdout",
       "text": [
        " 1 :  216  errors out of  1000 ;  21  % error\n",
        "Total error:  29 %\n"
       ]
      },
      {
       "output_type": "display_data",
       "png": "[encoded data removed]"
      }
     ],
     "prompt_number": 6
    },
    {
     "cell_type": "markdown",
     "metadata": {},
     "source": [
      "It appears that changing the classification margin doesn't do very much. It seems like the first two rows (i.e. the ones that vary between the classes) are about equally well delineated for both margins, as well."
     ]
    },
    {
     "cell_type": "code",
     "collapsed": false,
     "input": [
      "trainPtsPerClass = 1000\n",
      "testPtsPerClass = 1000\n",
      "\n",
      "\n",
      "trainData = sf.labeled(sf.synthData(100))\n",
      "testData = sf.synthData(1000).reshape(2,1000,100)"
     ],
     "language": "python",
     "metadata": {},
     "outputs": [],
     "prompt_number": 18
    },
    {
     "cell_type": "code",
     "collapsed": false,
     "input": [
      "delta = 1 # margin of \"not good enough classification\" that triggers iterative training of neural net\n",
      "\n",
      "\n",
      "net = NeuralNet(neuronsPerClass, delta)\n",
      "net.trainOnSet(trainData, numIterations)\n",
      "net.testOnSet(testData)\n",
      "net.displayClassMeans()"
     ],
     "language": "python",
     "metadata": {},
     "outputs": [
      {
       "output_type": "stream",
       "stream": "stdout",
       "text": [
        "Training neural net on 10000 examples\n",
        "0% done\n",
        "20% done"
       ]
      },
      {
       "output_type": "stream",
       "stream": "stdout",
       "text": [
        "\n",
        "40% done"
       ]
      },
      {
       "output_type": "stream",
       "stream": "stdout",
       "text": [
        "\n",
        "60% done"
       ]
      },
      {
       "output_type": "stream",
       "stream": "stdout",
       "text": [
        "\n",
        "80% done"
       ]
      },
      {
       "output_type": "stream",
       "stream": "stdout",
       "text": [
        "\n",
        "Neural net training complete!"
       ]
      },
      {
       "output_type": "stream",
       "stream": "stdout",
       "text": [
        "\n",
        "Character "
       ]
      },
      {
       "output_type": "stream",
       "stream": "stdout",
       "text": [
        " 0 :  287  errors out of  1000 ;  28  % error\n",
        "Character  1 :  273  errors out of  1000 ;  27  % error\n",
        "Total error:  28 %\n"
       ]
      },
      {
       "output_type": "display_data",
       "png": "[encoded data removed]"
      }
     ],
     "prompt_number": 7
    },
    {
     "cell_type": "markdown",
     "metadata": {},
     "source": [
      "And apparently, increasing the number of training points from 100 to 1000 doesn't change either the classification rate or the models (as displayed graphically) very much. However, all of the neural nets are evidently learning that the first two rows are a signifcant difference between the two classes, which is what lets us get to ~28% error instead of a coin toss."
     ]
    }
   ],
   "metadata": {}
  }
 ]
}